{
  "nbformat": 4,
  "nbformat_minor": 0,
  "metadata": {
    "colab": {
      "name": "Final Niki.ipynb",
      "version": "0.3.2",
      "provenance": [],
      "collapsed_sections": [],
      "include_colab_link": true
    },
    "kernelspec": {
      "name": "python3",
      "display_name": "Python 3"
    }
  },
  "cells": [
    {
      "cell_type": "markdown",
      "metadata": {
        "id": "view-in-github",
        "colab_type": "text"
      },
      "source": [
        "<a href=\"https://colab.research.google.com/github/pranabsarkar/comment_reviews_nlp/blob/master/Final_Niki.ipynb\" target=\"_parent\"><img src=\"https://colab.research.google.com/assets/colab-badge.svg\" alt=\"Open In Colab\"/></a>"
      ]
    },
    {
      "metadata": {
        "id": "hrLJLa-j002l",
        "colab_type": "code",
        "outputId": "271126c6-34b1-4006-fe0a-293545e3c4ed",
        "colab": {
          "base_uri": "https://localhost:8080/",
          "height": 131
        }
      },
      "cell_type": "code",
      "source": [
        "from google.colab import drive\n",
        "drive.mount('/content/drive/')"
      ],
      "execution_count": 0,
      "outputs": [
        {
          "output_type": "stream",
          "text": [
            "Go to this URL in a browser: https://accounts.google.com/o/oauth2/auth?client_id=947318989803-6bn6qk8qdgf4n4g3pfee6491hc0brc4i.apps.googleusercontent.com&redirect_uri=urn%3Aietf%3Awg%3Aoauth%3A2.0%3Aoob&scope=email%20https%3A%2F%2Fwww.googleapis.com%2Fauth%2Fdocs.test%20https%3A%2F%2Fwww.googleapis.com%2Fauth%2Fdrive%20https%3A%2F%2Fwww.googleapis.com%2Fauth%2Fdrive.photos.readonly%20https%3A%2F%2Fwww.googleapis.com%2Fauth%2Fpeopleapi.readonly&response_type=code\n",
            "\n",
            "Enter your authorization code:\n",
            "··········\n",
            "Mounted at /content/drive/\n"
          ],
          "name": "stdout"
        }
      ]
    },
    {
      "metadata": {
        "id": "nU9jVt75HGjw",
        "colab_type": "text"
      },
      "cell_type": "markdown",
      "source": [
        "# Importing the libraries."
      ]
    },
    {
      "metadata": {
        "id": "T8vwdudf2v44",
        "colab_type": "code",
        "colab": {}
      },
      "cell_type": "code",
      "source": [
        "import numpy as np\n",
        "import pandas as pd\n",
        "import nltk\n",
        "from nltk.corpus import stopwords\n",
        "import string\n",
        "import math\n",
        "import re\n",
        "from textblob import TextBlob\n",
        "from sklearn.model_selection import train_test_split, cross_val_score\n",
        "from sklearn.metrics import classification_report\n",
        "from sklearn.metrics import confusion_matrix, accuracy_score, roc_auc_score, roc_curve\n",
        "from sklearn.model_selection import GridSearchCV\n",
        "from sklearn.model_selection import train_test_split\n",
        "from sklearn.externals import joblib\n",
        "from sklearn import *\n",
        "from sklearn.ensemble import RandomForestClassifier\n",
        "import smote_variants as sv\n"
      ],
      "execution_count": 0,
      "outputs": []
    },
    {
      "metadata": {
        "id": "WmC83SuWHt15",
        "colab_type": "text"
      },
      "cell_type": "markdown",
      "source": [
        "## Loading the Data"
      ]
    },
    {
      "metadata": {
        "id": "o0H48Q8L3m2F",
        "colab_type": "code",
        "colab": {}
      },
      "cell_type": "code",
      "source": [
        "df_train=pd.read_csv(\"/content/drive/My Drive/Colab Notebooks/niki/train.csv\")\n",
        "df_test=pd.read_csv(\"/content/drive/My Drive/Colab Notebooks/niki/test.csv\")"
      ],
      "execution_count": 0,
      "outputs": []
    },
    {
      "metadata": {
        "id": "ISl97UB8Hzsk",
        "colab_type": "text"
      },
      "cell_type": "markdown",
      "source": [
        "## Lets have a look into the training Data"
      ]
    },
    {
      "metadata": {
        "id": "Uzlcut4dH_vK",
        "colab_type": "code",
        "outputId": "f683a2d1-46cb-415a-d997-c32e95da4793",
        "colab": {
          "base_uri": "https://localhost:8080/",
          "height": 223
        }
      },
      "cell_type": "code",
      "source": [
        "df_train.info()"
      ],
      "execution_count": 0,
      "outputs": [
        {
          "output_type": "stream",
          "text": [
            "<class 'pandas.core.frame.DataFrame'>\n",
            "RangeIndex: 5693 entries, 0 to 5692\n",
            "Data columns (total 6 columns):\n",
            "id                  5693 non-null object\n",
            "App Version Code    4554 non-null float64\n",
            "App Version Name    4554 non-null float64\n",
            "Review Text         5692 non-null object\n",
            "Review Title        602 non-null object\n",
            "Star Rating         5693 non-null int64\n",
            "dtypes: float64(2), int64(1), object(3)\n",
            "memory usage: 266.9+ KB\n"
          ],
          "name": "stdout"
        }
      ]
    },
    {
      "metadata": {
        "id": "iP6vjHygIEOt",
        "colab_type": "code",
        "outputId": "949f9bd0-715a-4100-9180-f0a6ec6b56fa",
        "colab": {
          "base_uri": "https://localhost:8080/",
          "height": 129
        }
      },
      "cell_type": "code",
      "source": [
        "df_train['Star Rating'].value_counts()"
      ],
      "execution_count": 0,
      "outputs": [
        {
          "output_type": "execute_result",
          "data": {
            "text/plain": [
              "5    2923\n",
              "1    1788\n",
              "4     611\n",
              "3     217\n",
              "2     154\n",
              "Name: Star Rating, dtype: int64"
            ]
          },
          "metadata": {
            "tags": []
          },
          "execution_count": 9
        }
      ]
    },
    {
      "metadata": {
        "id": "Z0fgsDguJAor",
        "colab_type": "code",
        "outputId": "58c737e6-e808-4534-cc55-293f774c61d1",
        "colab": {
          "base_uri": "https://localhost:8080/",
          "height": 293
        }
      },
      "cell_type": "code",
      "source": [
        "df_train.tail(5)"
      ],
      "execution_count": 0,
      "outputs": [
        {
          "output_type": "execute_result",
          "data": {
            "text/html": [
              "<div>\n",
              "<style scoped>\n",
              "    .dataframe tbody tr th:only-of-type {\n",
              "        vertical-align: middle;\n",
              "    }\n",
              "\n",
              "    .dataframe tbody tr th {\n",
              "        vertical-align: top;\n",
              "    }\n",
              "\n",
              "    .dataframe thead th {\n",
              "        text-align: right;\n",
              "    }\n",
              "</style>\n",
              "<table border=\"1\" class=\"dataframe\">\n",
              "  <thead>\n",
              "    <tr style=\"text-align: right;\">\n",
              "      <th></th>\n",
              "      <th>id</th>\n",
              "      <th>App Version Code</th>\n",
              "      <th>App Version Name</th>\n",
              "      <th>Review Text</th>\n",
              "      <th>Review Title</th>\n",
              "      <th>Star Rating</th>\n",
              "    </tr>\n",
              "  </thead>\n",
              "  <tbody>\n",
              "    <tr>\n",
              "      <th>5688</th>\n",
              "      <td>6a486dfa-10ec-46c3-be48-da4296ff3690</td>\n",
              "      <td>69.0</td>\n",
              "      <td>2.28</td>\n",
              "      <td>Good</td>\n",
              "      <td>NaN</td>\n",
              "      <td>4</td>\n",
              "    </tr>\n",
              "    <tr>\n",
              "      <th>5689</th>\n",
              "      <td>9c6745d7-64bd-431a-9861-0737db52eadc</td>\n",
              "      <td>69.0</td>\n",
              "      <td>2.28</td>\n",
              "      <td>Easy to use</td>\n",
              "      <td>NaN</td>\n",
              "      <td>4</td>\n",
              "    </tr>\n",
              "    <tr>\n",
              "      <th>5690</th>\n",
              "      <td>2289f5fd-5556-49f8-ab4f-ba5e99a1a50f</td>\n",
              "      <td>68.0</td>\n",
              "      <td>2.27</td>\n",
              "      <td>I'm already a Lazypay account holder using sam...</td>\n",
              "      <td>NaN</td>\n",
              "      <td>2</td>\n",
              "    </tr>\n",
              "    <tr>\n",
              "      <th>5691</th>\n",
              "      <td>c11b87db-6e1d-4b52-ae1e-d759809ef2f0</td>\n",
              "      <td>75.0</td>\n",
              "      <td>2.34</td>\n",
              "      <td>It's so easy to use, I'm just using and fallin...</td>\n",
              "      <td>NaN</td>\n",
              "      <td>5</td>\n",
              "    </tr>\n",
              "    <tr>\n",
              "      <th>5692</th>\n",
              "      <td>0a4c9a2a-8510-4e1d-a5ba-bd30afbac09a</td>\n",
              "      <td>NaN</td>\n",
              "      <td>NaN</td>\n",
              "      <td>Good</td>\n",
              "      <td>NaN</td>\n",
              "      <td>5</td>\n",
              "    </tr>\n",
              "  </tbody>\n",
              "</table>\n",
              "</div>"
            ],
            "text/plain": [
              "                                        id  App Version Code  \\\n",
              "5688  6a486dfa-10ec-46c3-be48-da4296ff3690              69.0   \n",
              "5689  9c6745d7-64bd-431a-9861-0737db52eadc              69.0   \n",
              "5690  2289f5fd-5556-49f8-ab4f-ba5e99a1a50f              68.0   \n",
              "5691  c11b87db-6e1d-4b52-ae1e-d759809ef2f0              75.0   \n",
              "5692  0a4c9a2a-8510-4e1d-a5ba-bd30afbac09a               NaN   \n",
              "\n",
              "      App Version Name                                        Review Text  \\\n",
              "5688              2.28                                               Good   \n",
              "5689              2.28                                        Easy to use   \n",
              "5690              2.27  I'm already a Lazypay account holder using sam...   \n",
              "5691              2.34  It's so easy to use, I'm just using and fallin...   \n",
              "5692               NaN                                               Good   \n",
              "\n",
              "     Review Title  Star Rating  \n",
              "5688          NaN            4  \n",
              "5689          NaN            4  \n",
              "5690          NaN            2  \n",
              "5691          NaN            5  \n",
              "5692          NaN            5  "
            ]
          },
          "metadata": {
            "tags": []
          },
          "execution_count": 7
        }
      ]
    },
    {
      "metadata": {
        "id": "xCQ_S9jPIPRa",
        "colab_type": "text"
      },
      "cell_type": "markdown",
      "source": [
        "#Note:\n",
        "\n",
        "After the analysis I have noticed the following:\n",
        "\n",
        "1.   There are many missing values.\n",
        "2.   The data is not balanced.\n",
        "3.   The text data(Review Text) is not clean.\n",
        "\n",
        "---\n",
        "\n",
        "Thus, I will use the entire data as well as create some synthetic data to balance the dataset for training my model.\n",
        "\n",
        "The steps I will follow :\n",
        "\n",
        "1.   Data Processing\n",
        "2.   Creating the synthetic data to balance the dataset and training the model.\n",
        "3.   Creating the Submission File.\n",
        "\n",
        "\n",
        "\n"
      ]
    },
    {
      "metadata": {
        "id": "cOwLSVOHKD1w",
        "colab_type": "text"
      },
      "cell_type": "markdown",
      "source": [
        "# 1. Data Processing"
      ]
    },
    {
      "metadata": {
        "id": "z-uoXRLU5YU3",
        "colab_type": "code",
        "colab": {}
      },
      "cell_type": "code",
      "source": [
        "def clean_text(text):\n",
        "  p=' '.join(re.sub(\"(@[A-Za-z0-9]+)|([^0-9A-Za-z \\t])|(\\w+:\\/\\/\\S+)\", \" \", text).split())\n",
        "  return p.lower()"
      ],
      "execution_count": 0,
      "outputs": []
    },
    {
      "metadata": {
        "id": "hzTiwcQb3o73",
        "colab_type": "code",
        "colab": {}
      },
      "cell_type": "code",
      "source": [
        "# Using sentiment analysis(polarity) to score the review text and to categorize the review title. \n",
        "\n",
        "def layer1_preprocess(df):\n",
        "  main_df=df\n",
        "  main_df=main_df.dropna(subset = ['Review Text'])\n",
        "  main_df['Review Title']= main_df['Review Title'].fillna('pranab')\n",
        "  main_df['senti']=0.0\n",
        "  main_df['senti_2']='wow'\n",
        "  for i in range(len(main_df)):\n",
        "    analysis = TextBlob(clean_text(main_df['Review Text'].iloc[i]))\n",
        "    nrr=analysis.sentiment.polarity\n",
        "    main_df['senti'].iloc[i]=nrr\n",
        "    if main_df['Review Title'].iloc[i]=='pranab':\n",
        "      main_df['senti_2'].iloc[i]='empty3'\n",
        "    else:\n",
        "      analysis = TextBlob(clean_text(str(main_df['Review Title'].iloc[i])))\n",
        "      nrr=analysis.sentiment.polarity\n",
        "      if nrr>0.0:\n",
        "        main_df['senti_2'].iloc[i]='happy'\n",
        "      elif nrr<0.0:\n",
        "        main_df['senti_2'].iloc[i]='sad'\n",
        "      else:\n",
        "        main_df['senti_2'].iloc[i]='neutral'   \n",
        "  return main_df\n",
        "    \n",
        "\n",
        "  "
      ],
      "execution_count": 0,
      "outputs": []
    },
    {
      "metadata": {
        "id": "CP_QRn_i6XK4",
        "colab_type": "code",
        "outputId": "22341655-5dc3-410e-aa62-31e904b9ba5f",
        "colab": {
          "base_uri": "https://localhost:8080/",
          "height": 860
        }
      },
      "cell_type": "code",
      "source": [
        "# This Process will take some minutes..\n",
        "p1=layer1_preprocess(df_train)"
      ],
      "execution_count": 0,
      "outputs": [
        {
          "output_type": "stream",
          "text": [
            "/usr/local/lib/python3.6/dist-packages/ipykernel_launcher.py:4: SettingWithCopyWarning: \n",
            "A value is trying to be set on a copy of a slice from a DataFrame.\n",
            "Try using .loc[row_indexer,col_indexer] = value instead\n",
            "\n",
            "See the caveats in the documentation: http://pandas.pydata.org/pandas-docs/stable/indexing.html#indexing-view-versus-copy\n",
            "  after removing the cwd from sys.path.\n",
            "/usr/local/lib/python3.6/dist-packages/ipykernel_launcher.py:5: SettingWithCopyWarning: \n",
            "A value is trying to be set on a copy of a slice from a DataFrame.\n",
            "Try using .loc[row_indexer,col_indexer] = value instead\n",
            "\n",
            "See the caveats in the documentation: http://pandas.pydata.org/pandas-docs/stable/indexing.html#indexing-view-versus-copy\n",
            "  \"\"\"\n",
            "/usr/local/lib/python3.6/dist-packages/ipykernel_launcher.py:6: SettingWithCopyWarning: \n",
            "A value is trying to be set on a copy of a slice from a DataFrame.\n",
            "Try using .loc[row_indexer,col_indexer] = value instead\n",
            "\n",
            "See the caveats in the documentation: http://pandas.pydata.org/pandas-docs/stable/indexing.html#indexing-view-versus-copy\n",
            "  \n",
            "/usr/local/lib/python3.6/dist-packages/pandas/core/indexing.py:189: SettingWithCopyWarning: \n",
            "A value is trying to be set on a copy of a slice from a DataFrame\n",
            "\n",
            "See the caveats in the documentation: http://pandas.pydata.org/pandas-docs/stable/indexing.html#indexing-view-versus-copy\n",
            "  self._setitem_with_indexer(indexer, value)\n",
            "/usr/local/lib/python3.6/dist-packages/ipykernel_launcher.py:10: SettingWithCopyWarning: \n",
            "A value is trying to be set on a copy of a slice from a DataFrame\n",
            "\n",
            "See the caveats in the documentation: http://pandas.pydata.org/pandas-docs/stable/indexing.html#indexing-view-versus-copy\n",
            "  # Remove the CWD from sys.path while we load stuff.\n",
            "/usr/local/lib/python3.6/dist-packages/ipykernel_launcher.py:12: SettingWithCopyWarning: \n",
            "A value is trying to be set on a copy of a slice from a DataFrame\n",
            "\n",
            "See the caveats in the documentation: http://pandas.pydata.org/pandas-docs/stable/indexing.html#indexing-view-versus-copy\n",
            "  if sys.path[0] == '':\n",
            "/usr/local/lib/python3.6/dist-packages/ipykernel_launcher.py:19: SettingWithCopyWarning: \n",
            "A value is trying to be set on a copy of a slice from a DataFrame\n",
            "\n",
            "See the caveats in the documentation: http://pandas.pydata.org/pandas-docs/stable/indexing.html#indexing-view-versus-copy\n",
            "/usr/local/lib/python3.6/dist-packages/ipykernel_launcher.py:17: SettingWithCopyWarning: \n",
            "A value is trying to be set on a copy of a slice from a DataFrame\n",
            "\n",
            "See the caveats in the documentation: http://pandas.pydata.org/pandas-docs/stable/indexing.html#indexing-view-versus-copy\n",
            "/usr/local/lib/python3.6/dist-packages/ipykernel_launcher.py:21: SettingWithCopyWarning: \n",
            "A value is trying to be set on a copy of a slice from a DataFrame\n",
            "\n",
            "See the caveats in the documentation: http://pandas.pydata.org/pandas-docs/stable/indexing.html#indexing-view-versus-copy\n"
          ],
          "name": "stderr"
        }
      ]
    },
    {
      "metadata": {
        "id": "9SHmrS-_AQiz",
        "colab_type": "code",
        "outputId": "4769bc30-0d7e-4214-a2cf-3de6ed19f252",
        "colab": {
          "base_uri": "https://localhost:8080/",
          "height": 860
        }
      },
      "cell_type": "code",
      "source": [
        "# This Process will take some minutes..\n",
        "p2=layer1_preprocess(df_test)"
      ],
      "execution_count": 0,
      "outputs": [
        {
          "output_type": "stream",
          "text": [
            "/usr/local/lib/python3.6/dist-packages/ipykernel_launcher.py:4: SettingWithCopyWarning: \n",
            "A value is trying to be set on a copy of a slice from a DataFrame.\n",
            "Try using .loc[row_indexer,col_indexer] = value instead\n",
            "\n",
            "See the caveats in the documentation: http://pandas.pydata.org/pandas-docs/stable/indexing.html#indexing-view-versus-copy\n",
            "  after removing the cwd from sys.path.\n",
            "/usr/local/lib/python3.6/dist-packages/ipykernel_launcher.py:5: SettingWithCopyWarning: \n",
            "A value is trying to be set on a copy of a slice from a DataFrame.\n",
            "Try using .loc[row_indexer,col_indexer] = value instead\n",
            "\n",
            "See the caveats in the documentation: http://pandas.pydata.org/pandas-docs/stable/indexing.html#indexing-view-versus-copy\n",
            "  \"\"\"\n",
            "/usr/local/lib/python3.6/dist-packages/ipykernel_launcher.py:6: SettingWithCopyWarning: \n",
            "A value is trying to be set on a copy of a slice from a DataFrame.\n",
            "Try using .loc[row_indexer,col_indexer] = value instead\n",
            "\n",
            "See the caveats in the documentation: http://pandas.pydata.org/pandas-docs/stable/indexing.html#indexing-view-versus-copy\n",
            "  \n",
            "/usr/local/lib/python3.6/dist-packages/pandas/core/indexing.py:189: SettingWithCopyWarning: \n",
            "A value is trying to be set on a copy of a slice from a DataFrame\n",
            "\n",
            "See the caveats in the documentation: http://pandas.pydata.org/pandas-docs/stable/indexing.html#indexing-view-versus-copy\n",
            "  self._setitem_with_indexer(indexer, value)\n",
            "/usr/local/lib/python3.6/dist-packages/ipykernel_launcher.py:10: SettingWithCopyWarning: \n",
            "A value is trying to be set on a copy of a slice from a DataFrame\n",
            "\n",
            "See the caveats in the documentation: http://pandas.pydata.org/pandas-docs/stable/indexing.html#indexing-view-versus-copy\n",
            "  # Remove the CWD from sys.path while we load stuff.\n",
            "/usr/local/lib/python3.6/dist-packages/ipykernel_launcher.py:12: SettingWithCopyWarning: \n",
            "A value is trying to be set on a copy of a slice from a DataFrame\n",
            "\n",
            "See the caveats in the documentation: http://pandas.pydata.org/pandas-docs/stable/indexing.html#indexing-view-versus-copy\n",
            "  if sys.path[0] == '':\n",
            "/usr/local/lib/python3.6/dist-packages/ipykernel_launcher.py:19: SettingWithCopyWarning: \n",
            "A value is trying to be set on a copy of a slice from a DataFrame\n",
            "\n",
            "See the caveats in the documentation: http://pandas.pydata.org/pandas-docs/stable/indexing.html#indexing-view-versus-copy\n",
            "/usr/local/lib/python3.6/dist-packages/ipykernel_launcher.py:21: SettingWithCopyWarning: \n",
            "A value is trying to be set on a copy of a slice from a DataFrame\n",
            "\n",
            "See the caveats in the documentation: http://pandas.pydata.org/pandas-docs/stable/indexing.html#indexing-view-versus-copy\n",
            "/usr/local/lib/python3.6/dist-packages/ipykernel_launcher.py:17: SettingWithCopyWarning: \n",
            "A value is trying to be set on a copy of a slice from a DataFrame\n",
            "\n",
            "See the caveats in the documentation: http://pandas.pydata.org/pandas-docs/stable/indexing.html#indexing-view-versus-copy\n"
          ],
          "name": "stderr"
        }
      ]
    },
    {
      "metadata": {
        "id": "MoHxHoUbMQ62",
        "colab_type": "code",
        "outputId": "37df1537-5548-42d9-b231-c974c7fdb4a7",
        "colab": {
          "base_uri": "https://localhost:8080/",
          "height": 310
        }
      },
      "cell_type": "code",
      "source": [
        "p1.head()"
      ],
      "execution_count": 0,
      "outputs": [
        {
          "output_type": "execute_result",
          "data": {
            "text/html": [
              "<div>\n",
              "<style scoped>\n",
              "    .dataframe tbody tr th:only-of-type {\n",
              "        vertical-align: middle;\n",
              "    }\n",
              "\n",
              "    .dataframe tbody tr th {\n",
              "        vertical-align: top;\n",
              "    }\n",
              "\n",
              "    .dataframe thead th {\n",
              "        text-align: right;\n",
              "    }\n",
              "</style>\n",
              "<table border=\"1\" class=\"dataframe\">\n",
              "  <thead>\n",
              "    <tr style=\"text-align: right;\">\n",
              "      <th></th>\n",
              "      <th>id</th>\n",
              "      <th>App Version Code</th>\n",
              "      <th>App Version Name</th>\n",
              "      <th>Review Text</th>\n",
              "      <th>Review Title</th>\n",
              "      <th>Star Rating</th>\n",
              "      <th>senti</th>\n",
              "      <th>senti_2</th>\n",
              "    </tr>\n",
              "  </thead>\n",
              "  <tbody>\n",
              "    <tr>\n",
              "      <th>0</th>\n",
              "      <td>b817b0f0-a2f8-4c9d-a5f6-d3fbf8b1d7e9</td>\n",
              "      <td>NaN</td>\n",
              "      <td>NaN</td>\n",
              "      <td>Very bad wallet balance not use.</td>\n",
              "      <td>pranab</td>\n",
              "      <td>1</td>\n",
              "      <td>-0.91</td>\n",
              "      <td>empty3</td>\n",
              "    </tr>\n",
              "    <tr>\n",
              "      <th>1</th>\n",
              "      <td>c7844e8f-56c1-487b-ae3e-df2fdf4c1767</td>\n",
              "      <td>43.0</td>\n",
              "      <td>2.30</td>\n",
              "      <td>Froud app i recharge 199 but not done also sen...</td>\n",
              "      <td>pranab</td>\n",
              "      <td>1</td>\n",
              "      <td>0.00</td>\n",
              "      <td>empty3</td>\n",
              "    </tr>\n",
              "    <tr>\n",
              "      <th>2</th>\n",
              "      <td>93ff57f7-9e02-4fa9-b779-3db82b8af0a4</td>\n",
              "      <td>52.0</td>\n",
              "      <td>2.12</td>\n",
              "      <td>Waste to write comments also</td>\n",
              "      <td>Waste no use</td>\n",
              "      <td>2</td>\n",
              "      <td>-0.20</td>\n",
              "      <td>sad</td>\n",
              "    </tr>\n",
              "    <tr>\n",
              "      <th>3</th>\n",
              "      <td>df2dcdef-c09a-4f35-afab-e1231d3fec9a</td>\n",
              "      <td>62.0</td>\n",
              "      <td>2.21</td>\n",
              "      <td>Nice apo</td>\n",
              "      <td>pranab</td>\n",
              "      <td>5</td>\n",
              "      <td>0.60</td>\n",
              "      <td>empty3</td>\n",
              "    </tr>\n",
              "    <tr>\n",
              "      <th>4</th>\n",
              "      <td>11f8f968-4cec-4424-8427-9709ab05b5be</td>\n",
              "      <td>69.0</td>\n",
              "      <td>2.28</td>\n",
              "      <td>Good nice app</td>\n",
              "      <td>pranab</td>\n",
              "      <td>5</td>\n",
              "      <td>0.65</td>\n",
              "      <td>empty3</td>\n",
              "    </tr>\n",
              "  </tbody>\n",
              "</table>\n",
              "</div>"
            ],
            "text/plain": [
              "                                     id  App Version Code  App Version Name  \\\n",
              "0  b817b0f0-a2f8-4c9d-a5f6-d3fbf8b1d7e9               NaN               NaN   \n",
              "1  c7844e8f-56c1-487b-ae3e-df2fdf4c1767              43.0              2.30   \n",
              "2  93ff57f7-9e02-4fa9-b779-3db82b8af0a4              52.0              2.12   \n",
              "3  df2dcdef-c09a-4f35-afab-e1231d3fec9a              62.0              2.21   \n",
              "4  11f8f968-4cec-4424-8427-9709ab05b5be              69.0              2.28   \n",
              "\n",
              "                                         Review Text  Review Title  \\\n",
              "0                   Very bad wallet balance not use.        pranab   \n",
              "1  Froud app i recharge 199 but not done also sen...        pranab   \n",
              "2                       Waste to write comments also  Waste no use   \n",
              "3                                           Nice apo        pranab   \n",
              "4                                      Good nice app        pranab   \n",
              "\n",
              "   Star Rating  senti senti_2  \n",
              "0            1  -0.91  empty3  \n",
              "1            1   0.00  empty3  \n",
              "2            2  -0.20     sad  \n",
              "3            5   0.60  empty3  \n",
              "4            5   0.65  empty3  "
            ]
          },
          "metadata": {
            "tags": []
          },
          "execution_count": 21
        }
      ]
    },
    {
      "metadata": {
        "id": "YwItBNSnIgoE",
        "colab_type": "code",
        "outputId": "2d5a7761-de5d-4744-ff9c-1d089c546774",
        "colab": {
          "base_uri": "https://localhost:8080/",
          "height": 310
        }
      },
      "cell_type": "code",
      "source": [
        "p2.head()"
      ],
      "execution_count": 0,
      "outputs": [
        {
          "output_type": "execute_result",
          "data": {
            "text/html": [
              "<div>\n",
              "<style scoped>\n",
              "    .dataframe tbody tr th:only-of-type {\n",
              "        vertical-align: middle;\n",
              "    }\n",
              "\n",
              "    .dataframe tbody tr th {\n",
              "        vertical-align: top;\n",
              "    }\n",
              "\n",
              "    .dataframe thead th {\n",
              "        text-align: right;\n",
              "    }\n",
              "</style>\n",
              "<table border=\"1\" class=\"dataframe\">\n",
              "  <thead>\n",
              "    <tr style=\"text-align: right;\">\n",
              "      <th></th>\n",
              "      <th>id</th>\n",
              "      <th>App Version Code</th>\n",
              "      <th>App Version Name</th>\n",
              "      <th>Review Text</th>\n",
              "      <th>Review Title</th>\n",
              "      <th>senti</th>\n",
              "      <th>senti_2</th>\n",
              "    </tr>\n",
              "  </thead>\n",
              "  <tbody>\n",
              "    <tr>\n",
              "      <th>0</th>\n",
              "      <td>bdcb3129-afc1-4608-825f-558fe9c17e2b</td>\n",
              "      <td>78.0</td>\n",
              "      <td>2.37</td>\n",
              "      <td>Awesome app, all should use it</td>\n",
              "      <td>pranab</td>\n",
              "      <td>1.000000</td>\n",
              "      <td>empty3</td>\n",
              "    </tr>\n",
              "    <tr>\n",
              "      <th>1</th>\n",
              "      <td>7518d5c8-5e35-45e2-b29d-cf0996ba9e2f</td>\n",
              "      <td>75.0</td>\n",
              "      <td>2.34</td>\n",
              "      <td>how can i stop notification</td>\n",
              "      <td>pranab</td>\n",
              "      <td>0.000000</td>\n",
              "      <td>empty3</td>\n",
              "    </tr>\n",
              "    <tr>\n",
              "      <th>2</th>\n",
              "      <td>b21ca913-ba44-471b-91e1-aaf035379a84</td>\n",
              "      <td>NaN</td>\n",
              "      <td>NaN</td>\n",
              "      <td>This app is very easy to use , nice graphics ,...</td>\n",
              "      <td>pranab</td>\n",
              "      <td>0.599167</td>\n",
              "      <td>empty3</td>\n",
              "    </tr>\n",
              "    <tr>\n",
              "      <th>3</th>\n",
              "      <td>beaaa17d-44af-44c8-ba38-24ba54c3b17d</td>\n",
              "      <td>83.0</td>\n",
              "      <td>2.42</td>\n",
              "      <td>Quite good but felt slow response from cc. Ove...</td>\n",
              "      <td>pranab</td>\n",
              "      <td>0.366667</td>\n",
              "      <td>empty3</td>\n",
              "    </tr>\n",
              "    <tr>\n",
              "      <th>4</th>\n",
              "      <td>89d8c4f0-6fe0-4389-b1f8-913ba894c0f1</td>\n",
              "      <td>74.0</td>\n",
              "      <td>2.33</td>\n",
              "      <td>Not getting otp for login since yesterday. Als...</td>\n",
              "      <td>pranab</td>\n",
              "      <td>0.000000</td>\n",
              "      <td>empty3</td>\n",
              "    </tr>\n",
              "  </tbody>\n",
              "</table>\n",
              "</div>"
            ],
            "text/plain": [
              "                                     id  App Version Code  App Version Name  \\\n",
              "0  bdcb3129-afc1-4608-825f-558fe9c17e2b              78.0              2.37   \n",
              "1  7518d5c8-5e35-45e2-b29d-cf0996ba9e2f              75.0              2.34   \n",
              "2  b21ca913-ba44-471b-91e1-aaf035379a84               NaN               NaN   \n",
              "3  beaaa17d-44af-44c8-ba38-24ba54c3b17d              83.0              2.42   \n",
              "4  89d8c4f0-6fe0-4389-b1f8-913ba894c0f1              74.0              2.33   \n",
              "\n",
              "                                         Review Text Review Title     senti  \\\n",
              "0                     Awesome app, all should use it       pranab  1.000000   \n",
              "1                        how can i stop notification       pranab  0.000000   \n",
              "2  This app is very easy to use , nice graphics ,...       pranab  0.599167   \n",
              "3  Quite good but felt slow response from cc. Ove...       pranab  0.366667   \n",
              "4  Not getting otp for login since yesterday. Als...       pranab  0.000000   \n",
              "\n",
              "  senti_2  \n",
              "0  empty3  \n",
              "1  empty3  \n",
              "2  empty3  \n",
              "3  empty3  \n",
              "4  empty3  "
            ]
          },
          "metadata": {
            "tags": []
          },
          "execution_count": 22
        }
      ]
    },
    {
      "metadata": {
        "id": "rrrSGjOFKYQJ",
        "colab_type": "code",
        "colab": {}
      },
      "cell_type": "code",
      "source": [
        "p1=p1.drop(columns={'Review Text','Review Title'})\n",
        "p2=p2.drop(columns={'Review Text','Review Title'})"
      ],
      "execution_count": 0,
      "outputs": []
    },
    {
      "metadata": {
        "id": "LG2RQGWEOZUV",
        "colab_type": "code",
        "colab": {}
      },
      "cell_type": "code",
      "source": [
        "# Managing the NaN\n",
        "p1['App Version Code']= p1['App Version Code'].fillna('empty1')\n",
        "p1['App Version Name']= p1['App Version Name'].fillna('empty2')\n",
        "p2['App Version Code']= p2['App Version Code'].fillna('empty1')\n",
        "p2['App Version Name']= p2['App Version Name'].fillna('empty2')"
      ],
      "execution_count": 0,
      "outputs": []
    },
    {
      "metadata": {
        "id": "yB9abs_ogAjo",
        "colab_type": "code",
        "colab": {}
      },
      "cell_type": "code",
      "source": [
        "#join two p1 and p2\n",
        "p2['Star Rating']=0\n",
        "result = p1.append([p2],sort=True)"
      ],
      "execution_count": 0,
      "outputs": []
    },
    {
      "metadata": {
        "id": "VCj_seFrh35w",
        "colab_type": "code",
        "outputId": "c4d4aa22-6d82-48fb-d6b7-c3bf17ebd41c",
        "colab": {
          "base_uri": "https://localhost:8080/",
          "height": 143
        }
      },
      "cell_type": "code",
      "source": [
        "result.tail(3)"
      ],
      "execution_count": 0,
      "outputs": [
        {
          "output_type": "execute_result",
          "data": {
            "text/html": [
              "<div>\n",
              "<style scoped>\n",
              "    .dataframe tbody tr th:only-of-type {\n",
              "        vertical-align: middle;\n",
              "    }\n",
              "\n",
              "    .dataframe tbody tr th {\n",
              "        vertical-align: top;\n",
              "    }\n",
              "\n",
              "    .dataframe thead th {\n",
              "        text-align: right;\n",
              "    }\n",
              "</style>\n",
              "<table border=\"1\" class=\"dataframe\">\n",
              "  <thead>\n",
              "    <tr style=\"text-align: right;\">\n",
              "      <th></th>\n",
              "      <th>App Version Code</th>\n",
              "      <th>App Version Name</th>\n",
              "      <th>Star Rating</th>\n",
              "      <th>id</th>\n",
              "      <th>senti</th>\n",
              "      <th>senti_2</th>\n",
              "    </tr>\n",
              "  </thead>\n",
              "  <tbody>\n",
              "    <tr>\n",
              "      <th>1421</th>\n",
              "      <td>75</td>\n",
              "      <td>2.34</td>\n",
              "      <td>0</td>\n",
              "      <td>a2a7be3d-41ce-472c-9e1e-eca354eedd0f</td>\n",
              "      <td>0.70</td>\n",
              "      <td>empty3</td>\n",
              "    </tr>\n",
              "    <tr>\n",
              "      <th>1422</th>\n",
              "      <td>28</td>\n",
              "      <td>1.9</td>\n",
              "      <td>0</td>\n",
              "      <td>af96d36d-42a1-4c8a-9e01-6ac1b2fbee5e</td>\n",
              "      <td>-0.25</td>\n",
              "      <td>empty3</td>\n",
              "    </tr>\n",
              "    <tr>\n",
              "      <th>1423</th>\n",
              "      <td>90</td>\n",
              "      <td>2.49</td>\n",
              "      <td>0</td>\n",
              "      <td>0c30ae30-d3c9-4a6d-b6b3-ff17210839f5</td>\n",
              "      <td>-0.20</td>\n",
              "      <td>empty3</td>\n",
              "    </tr>\n",
              "  </tbody>\n",
              "</table>\n",
              "</div>"
            ],
            "text/plain": [
              "     App Version Code App Version Name  Star Rating  \\\n",
              "1421               75             2.34            0   \n",
              "1422               28              1.9            0   \n",
              "1423               90             2.49            0   \n",
              "\n",
              "                                        id  senti senti_2  \n",
              "1421  a2a7be3d-41ce-472c-9e1e-eca354eedd0f   0.70  empty3  \n",
              "1422  af96d36d-42a1-4c8a-9e01-6ac1b2fbee5e  -0.25  empty3  \n",
              "1423  0c30ae30-d3c9-4a6d-b6b3-ff17210839f5  -0.20  empty3  "
            ]
          },
          "metadata": {
            "tags": []
          },
          "execution_count": 28
        }
      ]
    },
    {
      "metadata": {
        "id": "sVpY7UnNVrnJ",
        "colab_type": "code",
        "colab": {}
      },
      "cell_type": "code",
      "source": [
        "#converting the data types\n",
        "result['App Version Code']=result['App Version Code'].astype(str)\n",
        "result['App Version Name']=result['App Version Name'].astype(str)"
      ],
      "execution_count": 0,
      "outputs": []
    },
    {
      "metadata": {
        "id": "aRPzrxgqPP-g",
        "colab_type": "code",
        "outputId": "0a1b91f7-1d75-4dca-e6bc-612b05f35e4f",
        "colab": {
          "base_uri": "https://localhost:8080/",
          "height": 360
        }
      },
      "cell_type": "code",
      "source": [
        "# One hot encoding into columns using dummy variables.\n",
        "p1_copy=result\n",
        "dummy1=pd.get_dummies(result['App Version Code'])\n",
        "dummy2=pd.get_dummies(result['App Version Name'])\n",
        "dummy3=pd.get_dummies(result['senti_2'])\n",
        "df_1=pd.concat([p1_copy, dummy1,dummy2,dummy3], axis=1)\n",
        "df_1=df_1.drop(columns={'App Version Code','App Version Name','senti_2'})\n",
        "df_1.head()\n"
      ],
      "execution_count": 0,
      "outputs": [
        {
          "output_type": "execute_result",
          "data": {
            "text/html": [
              "<div>\n",
              "<style scoped>\n",
              "    .dataframe tbody tr th:only-of-type {\n",
              "        vertical-align: middle;\n",
              "    }\n",
              "\n",
              "    .dataframe tbody tr th {\n",
              "        vertical-align: top;\n",
              "    }\n",
              "\n",
              "    .dataframe thead th {\n",
              "        text-align: right;\n",
              "    }\n",
              "</style>\n",
              "<table border=\"1\" class=\"dataframe\">\n",
              "  <thead>\n",
              "    <tr style=\"text-align: right;\">\n",
              "      <th></th>\n",
              "      <th>Star Rating</th>\n",
              "      <th>id</th>\n",
              "      <th>senti</th>\n",
              "      <th>1.0</th>\n",
              "      <th>10.0</th>\n",
              "      <th>11.0</th>\n",
              "      <th>13.0</th>\n",
              "      <th>14.0</th>\n",
              "      <th>17.0</th>\n",
              "      <th>18.0</th>\n",
              "      <th>...</th>\n",
              "      <th>2.49</th>\n",
              "      <th>2.5</th>\n",
              "      <th>2.6</th>\n",
              "      <th>2.7</th>\n",
              "      <th>2.9</th>\n",
              "      <th>empty2</th>\n",
              "      <th>empty3</th>\n",
              "      <th>happy</th>\n",
              "      <th>neutral</th>\n",
              "      <th>sad</th>\n",
              "    </tr>\n",
              "  </thead>\n",
              "  <tbody>\n",
              "    <tr>\n",
              "      <th>0</th>\n",
              "      <td>1</td>\n",
              "      <td>b817b0f0-a2f8-4c9d-a5f6-d3fbf8b1d7e9</td>\n",
              "      <td>-0.91</td>\n",
              "      <td>0</td>\n",
              "      <td>0</td>\n",
              "      <td>0</td>\n",
              "      <td>0</td>\n",
              "      <td>0</td>\n",
              "      <td>0</td>\n",
              "      <td>0</td>\n",
              "      <td>...</td>\n",
              "      <td>0</td>\n",
              "      <td>0</td>\n",
              "      <td>0</td>\n",
              "      <td>0</td>\n",
              "      <td>0</td>\n",
              "      <td>1</td>\n",
              "      <td>1</td>\n",
              "      <td>0</td>\n",
              "      <td>0</td>\n",
              "      <td>0</td>\n",
              "    </tr>\n",
              "    <tr>\n",
              "      <th>1</th>\n",
              "      <td>1</td>\n",
              "      <td>c7844e8f-56c1-487b-ae3e-df2fdf4c1767</td>\n",
              "      <td>0.00</td>\n",
              "      <td>0</td>\n",
              "      <td>0</td>\n",
              "      <td>0</td>\n",
              "      <td>0</td>\n",
              "      <td>0</td>\n",
              "      <td>0</td>\n",
              "      <td>0</td>\n",
              "      <td>...</td>\n",
              "      <td>0</td>\n",
              "      <td>0</td>\n",
              "      <td>0</td>\n",
              "      <td>0</td>\n",
              "      <td>0</td>\n",
              "      <td>0</td>\n",
              "      <td>1</td>\n",
              "      <td>0</td>\n",
              "      <td>0</td>\n",
              "      <td>0</td>\n",
              "    </tr>\n",
              "    <tr>\n",
              "      <th>2</th>\n",
              "      <td>2</td>\n",
              "      <td>93ff57f7-9e02-4fa9-b779-3db82b8af0a4</td>\n",
              "      <td>-0.20</td>\n",
              "      <td>0</td>\n",
              "      <td>0</td>\n",
              "      <td>0</td>\n",
              "      <td>0</td>\n",
              "      <td>0</td>\n",
              "      <td>0</td>\n",
              "      <td>0</td>\n",
              "      <td>...</td>\n",
              "      <td>0</td>\n",
              "      <td>0</td>\n",
              "      <td>0</td>\n",
              "      <td>0</td>\n",
              "      <td>0</td>\n",
              "      <td>0</td>\n",
              "      <td>0</td>\n",
              "      <td>0</td>\n",
              "      <td>0</td>\n",
              "      <td>1</td>\n",
              "    </tr>\n",
              "    <tr>\n",
              "      <th>3</th>\n",
              "      <td>5</td>\n",
              "      <td>df2dcdef-c09a-4f35-afab-e1231d3fec9a</td>\n",
              "      <td>0.60</td>\n",
              "      <td>0</td>\n",
              "      <td>0</td>\n",
              "      <td>0</td>\n",
              "      <td>0</td>\n",
              "      <td>0</td>\n",
              "      <td>0</td>\n",
              "      <td>0</td>\n",
              "      <td>...</td>\n",
              "      <td>0</td>\n",
              "      <td>0</td>\n",
              "      <td>0</td>\n",
              "      <td>0</td>\n",
              "      <td>0</td>\n",
              "      <td>0</td>\n",
              "      <td>1</td>\n",
              "      <td>0</td>\n",
              "      <td>0</td>\n",
              "      <td>0</td>\n",
              "    </tr>\n",
              "    <tr>\n",
              "      <th>4</th>\n",
              "      <td>5</td>\n",
              "      <td>11f8f968-4cec-4424-8427-9709ab05b5be</td>\n",
              "      <td>0.65</td>\n",
              "      <td>0</td>\n",
              "      <td>0</td>\n",
              "      <td>0</td>\n",
              "      <td>0</td>\n",
              "      <td>0</td>\n",
              "      <td>0</td>\n",
              "      <td>0</td>\n",
              "      <td>...</td>\n",
              "      <td>0</td>\n",
              "      <td>0</td>\n",
              "      <td>0</td>\n",
              "      <td>0</td>\n",
              "      <td>0</td>\n",
              "      <td>0</td>\n",
              "      <td>1</td>\n",
              "      <td>0</td>\n",
              "      <td>0</td>\n",
              "      <td>0</td>\n",
              "    </tr>\n",
              "  </tbody>\n",
              "</table>\n",
              "<p>5 rows × 129 columns</p>\n",
              "</div>"
            ],
            "text/plain": [
              "   Star Rating                                    id  senti  1.0  10.0  11.0  \\\n",
              "0            1  b817b0f0-a2f8-4c9d-a5f6-d3fbf8b1d7e9  -0.91    0     0     0   \n",
              "1            1  c7844e8f-56c1-487b-ae3e-df2fdf4c1767   0.00    0     0     0   \n",
              "2            2  93ff57f7-9e02-4fa9-b779-3db82b8af0a4  -0.20    0     0     0   \n",
              "3            5  df2dcdef-c09a-4f35-afab-e1231d3fec9a   0.60    0     0     0   \n",
              "4            5  11f8f968-4cec-4424-8427-9709ab05b5be   0.65    0     0     0   \n",
              "\n",
              "   13.0  14.0  17.0  18.0 ...   2.49  2.5  2.6  2.7  2.9  empty2  empty3  \\\n",
              "0     0     0     0     0 ...      0    0    0    0    0       1       1   \n",
              "1     0     0     0     0 ...      0    0    0    0    0       0       1   \n",
              "2     0     0     0     0 ...      0    0    0    0    0       0       0   \n",
              "3     0     0     0     0 ...      0    0    0    0    0       0       1   \n",
              "4     0     0     0     0 ...      0    0    0    0    0       0       1   \n",
              "\n",
              "   happy  neutral  sad  \n",
              "0      0        0    0  \n",
              "1      0        0    0  \n",
              "2      0        0    1  \n",
              "3      0        0    0  \n",
              "4      0        0    0  \n",
              "\n",
              "[5 rows x 129 columns]"
            ]
          },
          "metadata": {
            "tags": []
          },
          "execution_count": 30
        }
      ]
    },
    {
      "metadata": {
        "id": "ZNBn7dd6i7KA",
        "colab_type": "code",
        "colab": {}
      },
      "cell_type": "code",
      "source": [
        "# Separating the Data\n",
        "df_f1=df_1[df_1['Star Rating']==0]\n",
        "df_f2=df_1[df_1['Star Rating']!=0]"
      ],
      "execution_count": 0,
      "outputs": []
    },
    {
      "metadata": {
        "id": "ezlUGXM1nLMd",
        "colab_type": "code",
        "outputId": "f7b79fb3-1afa-4e46-e2cc-3d128a030f6f",
        "colab": {
          "base_uri": "https://localhost:8080/",
          "height": 360
        }
      },
      "cell_type": "code",
      "source": [
        "df_f2.head()"
      ],
      "execution_count": 0,
      "outputs": [
        {
          "output_type": "execute_result",
          "data": {
            "text/html": [
              "<div>\n",
              "<style scoped>\n",
              "    .dataframe tbody tr th:only-of-type {\n",
              "        vertical-align: middle;\n",
              "    }\n",
              "\n",
              "    .dataframe tbody tr th {\n",
              "        vertical-align: top;\n",
              "    }\n",
              "\n",
              "    .dataframe thead th {\n",
              "        text-align: right;\n",
              "    }\n",
              "</style>\n",
              "<table border=\"1\" class=\"dataframe\">\n",
              "  <thead>\n",
              "    <tr style=\"text-align: right;\">\n",
              "      <th></th>\n",
              "      <th>Star Rating</th>\n",
              "      <th>id</th>\n",
              "      <th>senti</th>\n",
              "      <th>1.0</th>\n",
              "      <th>10.0</th>\n",
              "      <th>11.0</th>\n",
              "      <th>13.0</th>\n",
              "      <th>14.0</th>\n",
              "      <th>17.0</th>\n",
              "      <th>18.0</th>\n",
              "      <th>...</th>\n",
              "      <th>2.49</th>\n",
              "      <th>2.5</th>\n",
              "      <th>2.6</th>\n",
              "      <th>2.7</th>\n",
              "      <th>2.9</th>\n",
              "      <th>empty2</th>\n",
              "      <th>empty3</th>\n",
              "      <th>happy</th>\n",
              "      <th>neutral</th>\n",
              "      <th>sad</th>\n",
              "    </tr>\n",
              "  </thead>\n",
              "  <tbody>\n",
              "    <tr>\n",
              "      <th>0</th>\n",
              "      <td>1</td>\n",
              "      <td>b817b0f0-a2f8-4c9d-a5f6-d3fbf8b1d7e9</td>\n",
              "      <td>-0.91</td>\n",
              "      <td>0</td>\n",
              "      <td>0</td>\n",
              "      <td>0</td>\n",
              "      <td>0</td>\n",
              "      <td>0</td>\n",
              "      <td>0</td>\n",
              "      <td>0</td>\n",
              "      <td>...</td>\n",
              "      <td>0</td>\n",
              "      <td>0</td>\n",
              "      <td>0</td>\n",
              "      <td>0</td>\n",
              "      <td>0</td>\n",
              "      <td>1</td>\n",
              "      <td>1</td>\n",
              "      <td>0</td>\n",
              "      <td>0</td>\n",
              "      <td>0</td>\n",
              "    </tr>\n",
              "    <tr>\n",
              "      <th>1</th>\n",
              "      <td>1</td>\n",
              "      <td>c7844e8f-56c1-487b-ae3e-df2fdf4c1767</td>\n",
              "      <td>0.00</td>\n",
              "      <td>0</td>\n",
              "      <td>0</td>\n",
              "      <td>0</td>\n",
              "      <td>0</td>\n",
              "      <td>0</td>\n",
              "      <td>0</td>\n",
              "      <td>0</td>\n",
              "      <td>...</td>\n",
              "      <td>0</td>\n",
              "      <td>0</td>\n",
              "      <td>0</td>\n",
              "      <td>0</td>\n",
              "      <td>0</td>\n",
              "      <td>0</td>\n",
              "      <td>1</td>\n",
              "      <td>0</td>\n",
              "      <td>0</td>\n",
              "      <td>0</td>\n",
              "    </tr>\n",
              "    <tr>\n",
              "      <th>2</th>\n",
              "      <td>2</td>\n",
              "      <td>93ff57f7-9e02-4fa9-b779-3db82b8af0a4</td>\n",
              "      <td>-0.20</td>\n",
              "      <td>0</td>\n",
              "      <td>0</td>\n",
              "      <td>0</td>\n",
              "      <td>0</td>\n",
              "      <td>0</td>\n",
              "      <td>0</td>\n",
              "      <td>0</td>\n",
              "      <td>...</td>\n",
              "      <td>0</td>\n",
              "      <td>0</td>\n",
              "      <td>0</td>\n",
              "      <td>0</td>\n",
              "      <td>0</td>\n",
              "      <td>0</td>\n",
              "      <td>0</td>\n",
              "      <td>0</td>\n",
              "      <td>0</td>\n",
              "      <td>1</td>\n",
              "    </tr>\n",
              "    <tr>\n",
              "      <th>3</th>\n",
              "      <td>5</td>\n",
              "      <td>df2dcdef-c09a-4f35-afab-e1231d3fec9a</td>\n",
              "      <td>0.60</td>\n",
              "      <td>0</td>\n",
              "      <td>0</td>\n",
              "      <td>0</td>\n",
              "      <td>0</td>\n",
              "      <td>0</td>\n",
              "      <td>0</td>\n",
              "      <td>0</td>\n",
              "      <td>...</td>\n",
              "      <td>0</td>\n",
              "      <td>0</td>\n",
              "      <td>0</td>\n",
              "      <td>0</td>\n",
              "      <td>0</td>\n",
              "      <td>0</td>\n",
              "      <td>1</td>\n",
              "      <td>0</td>\n",
              "      <td>0</td>\n",
              "      <td>0</td>\n",
              "    </tr>\n",
              "    <tr>\n",
              "      <th>4</th>\n",
              "      <td>5</td>\n",
              "      <td>11f8f968-4cec-4424-8427-9709ab05b5be</td>\n",
              "      <td>0.65</td>\n",
              "      <td>0</td>\n",
              "      <td>0</td>\n",
              "      <td>0</td>\n",
              "      <td>0</td>\n",
              "      <td>0</td>\n",
              "      <td>0</td>\n",
              "      <td>0</td>\n",
              "      <td>...</td>\n",
              "      <td>0</td>\n",
              "      <td>0</td>\n",
              "      <td>0</td>\n",
              "      <td>0</td>\n",
              "      <td>0</td>\n",
              "      <td>0</td>\n",
              "      <td>1</td>\n",
              "      <td>0</td>\n",
              "      <td>0</td>\n",
              "      <td>0</td>\n",
              "    </tr>\n",
              "  </tbody>\n",
              "</table>\n",
              "<p>5 rows × 129 columns</p>\n",
              "</div>"
            ],
            "text/plain": [
              "   Star Rating                                    id  senti  1.0  10.0  11.0  \\\n",
              "0            1  b817b0f0-a2f8-4c9d-a5f6-d3fbf8b1d7e9  -0.91    0     0     0   \n",
              "1            1  c7844e8f-56c1-487b-ae3e-df2fdf4c1767   0.00    0     0     0   \n",
              "2            2  93ff57f7-9e02-4fa9-b779-3db82b8af0a4  -0.20    0     0     0   \n",
              "3            5  df2dcdef-c09a-4f35-afab-e1231d3fec9a   0.60    0     0     0   \n",
              "4            5  11f8f968-4cec-4424-8427-9709ab05b5be   0.65    0     0     0   \n",
              "\n",
              "   13.0  14.0  17.0  18.0 ...   2.49  2.5  2.6  2.7  2.9  empty2  empty3  \\\n",
              "0     0     0     0     0 ...      0    0    0    0    0       1       1   \n",
              "1     0     0     0     0 ...      0    0    0    0    0       0       1   \n",
              "2     0     0     0     0 ...      0    0    0    0    0       0       0   \n",
              "3     0     0     0     0 ...      0    0    0    0    0       0       1   \n",
              "4     0     0     0     0 ...      0    0    0    0    0       0       1   \n",
              "\n",
              "   happy  neutral  sad  \n",
              "0      0        0    0  \n",
              "1      0        0    0  \n",
              "2      0        0    1  \n",
              "3      0        0    0  \n",
              "4      0        0    0  \n",
              "\n",
              "[5 rows x 129 columns]"
            ]
          },
          "metadata": {
            "tags": []
          },
          "execution_count": 33
        }
      ]
    },
    {
      "metadata": {
        "id": "0PeV0cmMQ2Rx",
        "colab_type": "code",
        "colab": {}
      },
      "cell_type": "code",
      "source": [
        "# Shuffleing the training data \n",
        "df_f2=df_f2.reindex(np.random.permutation(df_f2.index))"
      ],
      "execution_count": 0,
      "outputs": []
    },
    {
      "metadata": {
        "id": "mLw6PXQHdunm",
        "colab_type": "text"
      },
      "cell_type": "markdown",
      "source": [
        "# 2. Creating the synthetic data to balance the dataset and training the model."
      ]
    },
    {
      "metadata": {
        "id": "q77sQcJufj5k",
        "colab_type": "code",
        "colab": {}
      },
      "cell_type": "code",
      "source": [
        "# Spliting the Data\n",
        "x = df_f2.drop(columns={'id','Star Rating'})\n",
        "y = df_f2['Star Rating']"
      ],
      "execution_count": 0,
      "outputs": []
    },
    {
      "metadata": {
        "id": "BEM0iil58czi",
        "colab_type": "code",
        "outputId": "502d1001-d58e-4557-f4d1-0b315fd5755c",
        "colab": {
          "base_uri": "https://localhost:8080/",
          "height": 861
        }
      },
      "cell_type": "code",
      "source": [
        "!pip install smote_variants"
      ],
      "execution_count": 0,
      "outputs": [
        {
          "output_type": "stream",
          "text": [
            "Collecting smote_variants\n",
            "\u001b[?25l  Downloading https://files.pythonhosted.org/packages/f0/29/628e2b83eef74847b5e145e9e16d6fc2968dbedba6c3cba79fec75d81ff5/smote_variants-0.2.6-py3-none-any.whl (128kB)\n",
            "\u001b[K    100% |████████████████████████████████| 133kB 3.9MB/s \n",
            "\u001b[?25hRequirement already satisfied: tensorflow in /usr/local/lib/python3.6/dist-packages (from smote_variants) (1.13.1)\n",
            "Requirement already satisfied: scipy in /usr/local/lib/python3.6/dist-packages (from smote_variants) (1.2.1)\n",
            "Requirement already satisfied: keras in /usr/local/lib/python3.6/dist-packages (from smote_variants) (2.2.4)\n",
            "Requirement already satisfied: numpy>=1.13.0 in /usr/local/lib/python3.6/dist-packages (from smote_variants) (1.16.2)\n",
            "Requirement already satisfied: joblib in /usr/local/lib/python3.6/dist-packages (from smote_variants) (0.12.5)\n",
            "Collecting minisom (from smote_variants)\n",
            "  Downloading https://files.pythonhosted.org/packages/69/69/ebb77000e8d722ee4ca82e79fe1d4eff0d140e324c378981c7e6480e8911/MiniSom-2.1.5.tar.gz\n",
            "Requirement already satisfied: pandas in /usr/local/lib/python3.6/dist-packages (from smote_variants) (0.23.4)\n",
            "Requirement already satisfied: scikit-learn in /usr/local/lib/python3.6/dist-packages (from smote_variants) (0.20.3)\n",
            "Collecting statistics (from smote_variants)\n",
            "  Downloading https://files.pythonhosted.org/packages/bb/3a/ae99a15e65636559d936dd2159d75af1619491e8cb770859fbc8aa62cef6/statistics-1.0.3.5.tar.gz\n",
            "Requirement already satisfied: tensorboard<1.14.0,>=1.13.0 in /usr/local/lib/python3.6/dist-packages (from tensorflow->smote_variants) (1.13.1)\n",
            "Requirement already satisfied: protobuf>=3.6.1 in /usr/local/lib/python3.6/dist-packages (from tensorflow->smote_variants) (3.7.1)\n",
            "Requirement already satisfied: tensorflow-estimator<1.14.0rc0,>=1.13.0 in /usr/local/lib/python3.6/dist-packages (from tensorflow->smote_variants) (1.13.0)\n",
            "Requirement already satisfied: astor>=0.6.0 in /usr/local/lib/python3.6/dist-packages (from tensorflow->smote_variants) (0.7.1)\n",
            "Requirement already satisfied: grpcio>=1.8.6 in /usr/local/lib/python3.6/dist-packages (from tensorflow->smote_variants) (1.15.0)\n",
            "Requirement already satisfied: six>=1.10.0 in /usr/local/lib/python3.6/dist-packages (from tensorflow->smote_variants) (1.11.0)\n",
            "Requirement already satisfied: keras-preprocessing>=1.0.5 in /usr/local/lib/python3.6/dist-packages (from tensorflow->smote_variants) (1.0.9)\n",
            "Requirement already satisfied: wheel>=0.26 in /usr/local/lib/python3.6/dist-packages (from tensorflow->smote_variants) (0.33.1)\n",
            "Requirement already satisfied: keras-applications>=1.0.6 in /usr/local/lib/python3.6/dist-packages (from tensorflow->smote_variants) (1.0.7)\n",
            "Requirement already satisfied: absl-py>=0.1.6 in /usr/local/lib/python3.6/dist-packages (from tensorflow->smote_variants) (0.7.1)\n",
            "Requirement already satisfied: termcolor>=1.1.0 in /usr/local/lib/python3.6/dist-packages (from tensorflow->smote_variants) (1.1.0)\n",
            "Requirement already satisfied: gast>=0.2.0 in /usr/local/lib/python3.6/dist-packages (from tensorflow->smote_variants) (0.2.2)\n",
            "Requirement already satisfied: h5py in /usr/local/lib/python3.6/dist-packages (from keras->smote_variants) (2.8.0)\n",
            "Requirement already satisfied: pyyaml in /usr/local/lib/python3.6/dist-packages (from keras->smote_variants) (3.13)\n",
            "Requirement already satisfied: pytz>=2011k in /usr/local/lib/python3.6/dist-packages (from pandas->smote_variants) (2018.9)\n",
            "Requirement already satisfied: python-dateutil>=2.5.0 in /usr/local/lib/python3.6/dist-packages (from pandas->smote_variants) (2.5.3)\n",
            "Requirement already satisfied: docutils>=0.3 in /usr/local/lib/python3.6/dist-packages (from statistics->smote_variants) (0.14)\n",
            "Requirement already satisfied: werkzeug>=0.11.15 in /usr/local/lib/python3.6/dist-packages (from tensorboard<1.14.0,>=1.13.0->tensorflow->smote_variants) (0.15.2)\n",
            "Requirement already satisfied: markdown>=2.6.8 in /usr/local/lib/python3.6/dist-packages (from tensorboard<1.14.0,>=1.13.0->tensorflow->smote_variants) (3.1)\n",
            "Requirement already satisfied: setuptools in /usr/local/lib/python3.6/dist-packages (from protobuf>=3.6.1->tensorflow->smote_variants) (40.9.0)\n",
            "Requirement already satisfied: mock>=2.0.0 in /usr/local/lib/python3.6/dist-packages (from tensorflow-estimator<1.14.0rc0,>=1.13.0->tensorflow->smote_variants) (2.0.0)\n",
            "Requirement already satisfied: pbr>=0.11 in /usr/local/lib/python3.6/dist-packages (from mock>=2.0.0->tensorflow-estimator<1.14.0rc0,>=1.13.0->tensorflow->smote_variants) (5.1.3)\n",
            "Building wheels for collected packages: minisom, statistics\n",
            "  Building wheel for minisom (setup.py) ... \u001b[?25ldone\n",
            "\u001b[?25h  Stored in directory: /root/.cache/pip/wheels/f8/32/ba/ca4264f6b795502698c8db8b07011a953e5fe34457a49c0860\n",
            "  Building wheel for statistics (setup.py) ... \u001b[?25ldone\n",
            "\u001b[?25h  Stored in directory: /root/.cache/pip/wheels/75/55/90/73aa7662bfb4565b567618547a275f01372a678ca92ecd64f3\n",
            "Successfully built minisom statistics\n",
            "Installing collected packages: minisom, statistics, smote-variants\n",
            "Successfully installed minisom-2.1.5 smote-variants-0.2.6 statistics-1.0.3.5\n"
          ],
          "name": "stdout"
        }
      ]
    },
    {
      "metadata": {
        "id": "RK9LEnV1nn0-",
        "colab_type": "code",
        "outputId": "f90a7436-d271-4c25-ab04-25f359654b9f",
        "colab": {
          "base_uri": "https://localhost:8080/",
          "height": 206
        }
      },
      "cell_type": "code",
      "source": [
        "# Creating the Synthetic Data\n",
        "oversampler= sv.MulticlassOversampling(sv.distance_SMOTE())\n",
        "X_samp, y_samp= oversampler.sample(x,y)"
      ],
      "execution_count": 0,
      "outputs": [
        {
          "output_type": "stream",
          "text": [
            "2019-04-18 16:53:13,397:INFO:MulticlassOversampling: Running multiclass oversampling with strategy equalize_1_vs_many_successive\n",
            "2019-04-18 16:53:13,405:INFO:MulticlassOversampling: Sampling minority class with label: 1\n",
            "2019-04-18 16:53:13,417:INFO:distance_SMOTE: Running sampling via ('distance_SMOTE', \"{'proportion': 1.0, 'n_neighbors': 5, 'n_jobs': 1}\")\n",
            "2019-04-18 16:53:13,817:INFO:MulticlassOversampling: Sampling minority class with label: 4\n",
            "2019-04-18 16:53:13,828:INFO:distance_SMOTE: Running sampling via ('distance_SMOTE', \"{'proportion': 0.4416427889207259, 'n_neighbors': 5, 'n_jobs': 1}\")\n",
            "2019-04-18 16:53:13,954:INFO:MulticlassOversampling: Sampling minority class with label: 3\n",
            "2019-04-18 16:53:13,968:INFO:distance_SMOTE: Running sampling via ('distance_SMOTE', \"{'proportion': 0.3164971355080089, 'n_neighbors': 5, 'n_jobs': 1}\")\n",
            "2019-04-18 16:53:14,065:INFO:MulticlassOversampling: Sampling minority class with label: 2\n",
            "2019-04-18 16:53:14,076:INFO:distance_SMOTE: Running sampling via ('distance_SMOTE', \"{'proportion': 0.23998959958398336, 'n_neighbors': 5, 'n_jobs': 1}\")\n"
          ],
          "name": "stderr"
        }
      ]
    },
    {
      "metadata": {
        "id": "7tyGjtm4p4Co",
        "colab_type": "code",
        "colab": {}
      },
      "cell_type": "code",
      "source": [
        "# Dividing the Dataset for training and testing\n",
        "X_train, X_test, y_train, y_test = train_test_split(X_samp,y_samp, random_state=0, test_size=0.25)"
      ],
      "execution_count": 0,
      "outputs": []
    },
    {
      "metadata": {
        "id": "AZ7JB2gnp9n4",
        "colab_type": "code",
        "outputId": "3330b66e-8893-4dbe-e5b7-d6eee103edde",
        "colab": {
          "base_uri": "https://localhost:8080/",
          "height": 36
        }
      },
      "cell_type": "code",
      "source": [
        "# Fitting the model for training\n",
        "model=RandomForestClassifier(criterion= 'gini',min_samples_split=15,n_estimators=50)\n",
        "model.fit(X_train,y_train)\n",
        "model.score(X_train,y_train)\n",
        "#Predict Output\n",
        "predicted= model.predict(X_test)\n",
        "accuracy_score(y_true = y_test, y_pred = predicted)"
      ],
      "execution_count": 0,
      "outputs": [
        {
          "output_type": "execute_result",
          "data": {
            "text/plain": [
              "0.7099069512862616"
            ]
          },
          "metadata": {
            "tags": []
          },
          "execution_count": 39
        }
      ]
    },
    {
      "metadata": {
        "id": "kDp21AofgA6h",
        "colab_type": "text"
      },
      "cell_type": "markdown",
      "source": [
        "### Classification Report and Confusion Matrix"
      ]
    },
    {
      "metadata": {
        "id": "TSIisZARqbAc",
        "colab_type": "code",
        "outputId": "f55b630e-3fe3-439b-b82c-831baa662fdc",
        "colab": {
          "base_uri": "https://localhost:8080/",
          "height": 335
        }
      },
      "cell_type": "code",
      "source": [
        "print(metrics.classification_report(y_test, predicted))\n",
        "print(metrics.confusion_matrix(y_test, predicted))"
      ],
      "execution_count": 0,
      "outputs": [
        {
          "output_type": "stream",
          "text": [
            "              precision    recall  f1-score   support\n",
            "\n",
            "           1       0.67      0.79      0.72       716\n",
            "           2       0.83      0.80      0.82       734\n",
            "           3       0.73      0.72      0.72       752\n",
            "           4       0.67      0.63      0.65       747\n",
            "           5       0.66      0.61      0.64       705\n",
            "\n",
            "   micro avg       0.71      0.71      0.71      3654\n",
            "   macro avg       0.71      0.71      0.71      3654\n",
            "weighted avg       0.71      0.71      0.71      3654\n",
            "\n",
            "[[564  39  35  42  36]\n",
            " [ 73 585  35  24  17]\n",
            " [ 78  42 542  44  46]\n",
            " [ 56  21  75 471 124]\n",
            " [ 75  14  60 124 432]]\n"
          ],
          "name": "stdout"
        }
      ]
    },
    {
      "metadata": {
        "id": "X3Cu1ekPxShE",
        "colab_type": "code",
        "outputId": "68900a3a-94e8-4c08-ae01-07557f11ce10",
        "colab": {
          "base_uri": "https://localhost:8080/",
          "height": 36
        }
      },
      "cell_type": "code",
      "source": [
        "# Output a pickle file for the model\n",
        "joblib.dump(model, '/content/drive/My Drive/Colab Notebooks/niki/saved_model1.pkl') "
      ],
      "execution_count": 0,
      "outputs": [
        {
          "output_type": "execute_result",
          "data": {
            "text/plain": [
              "['/content/drive/My Drive/Colab Notebooks/niki/saved_model1.pkl']"
            ]
          },
          "metadata": {
            "tags": []
          },
          "execution_count": 44
        }
      ]
    },
    {
      "metadata": {
        "id": "SzJd2SQb9ps5",
        "colab_type": "code",
        "colab": {}
      },
      "cell_type": "code",
      "source": [
        "scores = cross_val_score(\n",
        " model, X_samp, y_samp, cv=5)"
      ],
      "execution_count": 0,
      "outputs": []
    },
    {
      "metadata": {
        "id": "nfN9FiDw-FGb",
        "colab_type": "code",
        "outputId": "ca944531-e128-4224-b14d-bddc72efd6af",
        "colab": {
          "base_uri": "https://localhost:8080/",
          "height": 36
        }
      },
      "cell_type": "code",
      "source": [
        "print(\"Accuracy: %0.2f (+/- %0.2f)\" % (scores.mean(), scores.std() / 2))"
      ],
      "execution_count": 0,
      "outputs": [
        {
          "output_type": "stream",
          "text": [
            "Accuracy: 0.71 (+/- 0.03)\n"
          ],
          "name": "stdout"
        }
      ]
    },
    {
      "metadata": {
        "id": "AdmbYo-U7GU-",
        "colab_type": "text"
      },
      "cell_type": "markdown",
      "source": [
        "# 3. Creating the Submission File."
      ]
    },
    {
      "metadata": {
        "id": "yDYRFcfL81bi",
        "colab_type": "code",
        "colab": {}
      },
      "cell_type": "code",
      "source": [
        "x_test=df_f1.drop(columns={'id','Star Rating'})\n",
        "predicted2= model.predict(x_test)\n",
        "final=df_f1.drop(columns={'Star Rating'})\n",
        "final_dict={'id':df_f1['id'],'Star Rating':predicted2}\n",
        "final_df=pd.DataFrame(final_dict)\n",
        "final_df.to_csv(\"/content/drive/My Drive/Colab Notebooks/niki/sample_submission.csv\",index=False)\n"
      ],
      "execution_count": 0,
      "outputs": []
    },
    {
      "metadata": {
        "id": "mI8_DKBi82JI",
        "colab_type": "code",
        "outputId": "0ed45044-2cef-479b-f142-97ff473fa268",
        "colab": {
          "base_uri": "https://localhost:8080/",
          "height": 363
        }
      },
      "cell_type": "code",
      "source": [
        "final_df.head(10)"
      ],
      "execution_count": 0,
      "outputs": [
        {
          "output_type": "execute_result",
          "data": {
            "text/html": [
              "<div>\n",
              "<style scoped>\n",
              "    .dataframe tbody tr th:only-of-type {\n",
              "        vertical-align: middle;\n",
              "    }\n",
              "\n",
              "    .dataframe tbody tr th {\n",
              "        vertical-align: top;\n",
              "    }\n",
              "\n",
              "    .dataframe thead th {\n",
              "        text-align: right;\n",
              "    }\n",
              "</style>\n",
              "<table border=\"1\" class=\"dataframe\">\n",
              "  <thead>\n",
              "    <tr style=\"text-align: right;\">\n",
              "      <th></th>\n",
              "      <th>id</th>\n",
              "      <th>Star Rating</th>\n",
              "    </tr>\n",
              "  </thead>\n",
              "  <tbody>\n",
              "    <tr>\n",
              "      <th>0</th>\n",
              "      <td>bdcb3129-afc1-4608-825f-558fe9c17e2b</td>\n",
              "      <td>5</td>\n",
              "    </tr>\n",
              "    <tr>\n",
              "      <th>1</th>\n",
              "      <td>7518d5c8-5e35-45e2-b29d-cf0996ba9e2f</td>\n",
              "      <td>1</td>\n",
              "    </tr>\n",
              "    <tr>\n",
              "      <th>2</th>\n",
              "      <td>b21ca913-ba44-471b-91e1-aaf035379a84</td>\n",
              "      <td>5</td>\n",
              "    </tr>\n",
              "    <tr>\n",
              "      <th>3</th>\n",
              "      <td>beaaa17d-44af-44c8-ba38-24ba54c3b17d</td>\n",
              "      <td>4</td>\n",
              "    </tr>\n",
              "    <tr>\n",
              "      <th>4</th>\n",
              "      <td>89d8c4f0-6fe0-4389-b1f8-913ba894c0f1</td>\n",
              "      <td>1</td>\n",
              "    </tr>\n",
              "    <tr>\n",
              "      <th>5</th>\n",
              "      <td>16e57197-186e-44ef-ac4c-6f6a13e787ee</td>\n",
              "      <td>1</td>\n",
              "    </tr>\n",
              "    <tr>\n",
              "      <th>6</th>\n",
              "      <td>04a33480-0544-433d-af9d-e8c0777cadfb</td>\n",
              "      <td>5</td>\n",
              "    </tr>\n",
              "    <tr>\n",
              "      <th>7</th>\n",
              "      <td>5a5b705a-e3d8-4424-989c-05d078b6a461</td>\n",
              "      <td>5</td>\n",
              "    </tr>\n",
              "    <tr>\n",
              "      <th>8</th>\n",
              "      <td>00aad18b-1960-464c-9334-0961a9f1d65c</td>\n",
              "      <td>4</td>\n",
              "    </tr>\n",
              "    <tr>\n",
              "      <th>9</th>\n",
              "      <td>ce2a2f18-bfba-4430-afc5-be587a190d77</td>\n",
              "      <td>2</td>\n",
              "    </tr>\n",
              "  </tbody>\n",
              "</table>\n",
              "</div>"
            ],
            "text/plain": [
              "                                     id  Star Rating\n",
              "0  bdcb3129-afc1-4608-825f-558fe9c17e2b            5\n",
              "1  7518d5c8-5e35-45e2-b29d-cf0996ba9e2f            1\n",
              "2  b21ca913-ba44-471b-91e1-aaf035379a84            5\n",
              "3  beaaa17d-44af-44c8-ba38-24ba54c3b17d            4\n",
              "4  89d8c4f0-6fe0-4389-b1f8-913ba894c0f1            1\n",
              "5  16e57197-186e-44ef-ac4c-6f6a13e787ee            1\n",
              "6  04a33480-0544-433d-af9d-e8c0777cadfb            5\n",
              "7  5a5b705a-e3d8-4424-989c-05d078b6a461            5\n",
              "8  00aad18b-1960-464c-9334-0961a9f1d65c            4\n",
              "9  ce2a2f18-bfba-4430-afc5-be587a190d77            2"
            ]
          },
          "metadata": {
            "tags": []
          },
          "execution_count": 60
        }
      ]
    },
    {
      "metadata": {
        "id": "6RImJ96xmWD6",
        "colab_type": "text"
      },
      "cell_type": "markdown",
      "source": [
        "# Thank You"
      ]
    },
    {
      "metadata": {
        "id": "d-Q_qlVAma8u",
        "colab_type": "code",
        "colab": {}
      },
      "cell_type": "code",
      "source": [
        ""
      ],
      "execution_count": 0,
      "outputs": []
    }
  ]
}